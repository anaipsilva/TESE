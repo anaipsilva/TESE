{
  "nbformat": 4,
  "nbformat_minor": 0,
  "metadata": {
    "colab": {
      "provenance": [],
      "collapsed_sections": [],
      "mount_file_id": "1vuK-1c_B9y3RasE3T91oGDDdookr-Mb4",
      "authorship_tag": "ABX9TyP5Gky6bM3fDCsHh6j3VDDP",
      "include_colab_link": true
    },
    "kernelspec": {
      "name": "python3",
      "display_name": "Python 3"
    },
    "language_info": {
      "name": "python"
    }
  },
  "cells": [
    {
      "cell_type": "markdown",
      "metadata": {
        "id": "view-in-github",
        "colab_type": "text"
      },
      "source": [
        "<a href=\"https://colab.research.google.com/github/anaipsilva/TESE/blob/main/csv_to_npyarray.ipynb\" target=\"_parent\"><img src=\"https://colab.research.google.com/assets/colab-badge.svg\" alt=\"Open In Colab\"/></a>"
      ]
    },
    {
      "cell_type": "code",
      "execution_count": 2,
      "metadata": {
        "colab": {
          "base_uri": "https://localhost:8080/"
        },
        "id": "eLxdcdxaJhzD",
        "outputId": "8492cd93-60ef-4c8d-91c0-1efbc0e9ecc4"
      },
      "outputs": [
        {
          "output_type": "stream",
          "name": "stdout",
          "text": [
            "Looking in indexes: https://pypi.org/simple, https://us-python.pkg.dev/colab-wheels/public/simple/\n",
            "Collecting pydicom\n",
            "  Downloading pydicom-2.3.0-py3-none-any.whl (2.0 MB)\n",
            "\u001b[K     |████████████████████████████████| 2.0 MB 7.6 MB/s \n",
            "\u001b[?25hCollecting dicom\n",
            "  Downloading dicom-0.9.9.post1-py3-none-any.whl (766 kB)\n",
            "\u001b[K     |████████████████████████████████| 766 kB 79.9 MB/s \n",
            "\u001b[?25hRequirement already satisfied: numpy in /usr/local/lib/python3.7/dist-packages (1.21.6)\n",
            "Installing collected packages: pydicom, dicom\n",
            "Successfully installed dicom-0.9.9.post1 pydicom-2.3.0\n"
          ]
        }
      ],
      "source": [
        "pip install pydicom dicom numpy"
      ]
    },
    {
      "cell_type": "code",
      "source": [
        "import pandas as pd\n",
        "import numpy as np\n",
        "import matplotlib.pyplot as plt\n",
        "import pydicom as dicom\n",
        "import cv2\n",
        "import os\n",
        "from numpy import genfromtxt"
      ],
      "metadata": {
        "id": "-2VRr4ALJn3f"
      },
      "execution_count": 3,
      "outputs": []
    },
    {
      "cell_type": "code",
      "source": [
        "read_file = pd.read_excel (\"/content/drive/MyDrive/TESE/labels_train.xlsx\")\n",
        "read_file.to_csv (\"labels_train.csv\", encoding='utf-8', index = False, header=1)"
      ],
      "metadata": {
        "id": "p3JcM9WyJp_Q"
      },
      "execution_count": 12,
      "outputs": []
    },
    {
      "cell_type": "code",
      "source": [
        "read_file = pd.read_excel (\"/content/drive/MyDrive/TESE/labels_test.xlsx\")\n",
        "read_file.to_csv (\"labels_test.csv\", encoding='utf-8', index = False, header=1)"
      ],
      "metadata": {
        "id": "WP0xjBqArxBG"
      },
      "execution_count": 13,
      "outputs": []
    },
    {
      "cell_type": "code",
      "source": [
        "data = np.genfromtxt('labels_train.csv', delimiter=',')\n",
        "len(data)\n",
        "data[365]\n",
        "np.save(os.path.join('/content/drive/MyDrive/TESE',\"labels_train\"),data)"
      ],
      "metadata": {
        "id": "RIRRAS8qWdTj"
      },
      "execution_count": null,
      "outputs": []
    },
    {
      "cell_type": "code",
      "source": [
        "data = np.genfromtxt('labels_test.csv', delimiter=',')\n",
        "len(data)\n",
        "data[365]\n",
        "np.save(os.path.join('/content/drive/MyDrive/TESE',\"labels_test\"),data)"
      ],
      "metadata": {
        "id": "OksMqjKzsKpy"
      },
      "execution_count": null,
      "outputs": []
    },
    {
      "cell_type": "code",
      "source": [
        "label=np.load(\"/content/drive/MyDrive/TESE/labels_train.npy\")\n",
        "label\n",
        "len(label)"
      ],
      "metadata": {
        "colab": {
          "base_uri": "https://localhost:8080/"
        },
        "id": "FxRYqY5ejyGv",
        "outputId": "5806d31d-d678-4cec-8a44-a0e67a28c2af"
      },
      "execution_count": null,
      "outputs": [
        {
          "output_type": "execute_result",
          "data": {
            "text/plain": [
              "734"
            ]
          },
          "metadata": {},
          "execution_count": 24
        }
      ]
    }
  ]
}